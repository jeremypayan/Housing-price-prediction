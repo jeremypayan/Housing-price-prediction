{
 "cells": [
  {
   "cell_type": "markdown",
   "metadata": {},
   "source": [
    "# Kaggle competition : Housing Price prediction "
   ]
  },
  {
   "cell_type": "markdown",
   "metadata": {},
   "source": [
    "<b>Objective </b>: Predict house price \n",
    "    \n",
    "<b>Problem type</b> : Regression \n",
    "\n",
    "<b>Data </b>: described in Data/data_description.txt \n",
    "    \n",
    "<b>Modelisation </b>: \n",
    "    \n",
    "    "
   ]
  },
  {
   "cell_type": "code",
   "execution_count": 1,
   "metadata": {},
   "outputs": [],
   "source": [
    "import numpy as np\n",
    "import pandas as pd \n",
    "import matplotlib.pyplot as plt \n",
    "%matplotlib inline "
   ]
  },
  {
   "cell_type": "code",
   "execution_count": 2,
   "metadata": {},
   "outputs": [],
   "source": [
    "from sklearn.model_selection import train_test_split\n",
    "\n",
    "# Get input data \n",
    "X_full = pd.read_csv('Data/train.csv', sep=',', index_col='Id')\n",
    "X_full_test = pd.read_csv('Data/test.csv', sep=',', index_col='Id')\n",
    "\n",
    "# Get predictors and \n",
    "y = X_full.SalePrice\n",
    "features = ['LotArea', 'YearBuilt', '1stFlrSF', '2ndFlrSF', 'FullBath', 'BedroomAbvGr', 'TotRmsAbvGrd']\n",
    "X = X_full[features].copy()\n",
    "X_test = X_full_test[features].copy()\n",
    "\n",
    "X_train, X_val, y_train, y_val = train_test_split(X, y, train_size=0.8, test_size=0.2,\n",
    "                                                      random_state=0)\n"
   ]
  },
  {
   "cell_type": "code",
   "execution_count": 3,
   "metadata": {},
   "outputs": [],
   "source": [
    "# Testing different models \n",
    "\n",
    "from sklearn.ensemble import RandomForestRegressor\n",
    "\n",
    "# Define the models\n",
    "model_1 = RandomForestRegressor(n_estimators=50, random_state=0)\n",
    "model_2 = RandomForestRegressor(n_estimators=100, random_state=0)\n",
    "model_3 = RandomForestRegressor(n_estimators=100, criterion='mae', random_state=0)\n",
    "model_4 = RandomForestRegressor(n_estimators=200, min_samples_split=20, random_state=0)\n",
    "model_5 = RandomForestRegressor(n_estimators=100, max_depth=7, random_state=0)\n",
    "\n",
    "models = [model_1, model_2, model_3, model_4, model_5]"
   ]
  },
  {
   "cell_type": "code",
   "execution_count": 4,
   "metadata": {},
   "outputs": [],
   "source": [
    "from sklearn.metrics import mean_absolute_error\n",
    "\n",
    "# Getting mae performance for testing different models\n",
    "def get_mae(X_train, y_train, X_val, y_val, model):\n",
    "    '''Function that computes the mae perfomance for a given model given in input\n",
    "    ----------\n",
    "    Returns : \n",
    "        error (float) : MAE value given the input model and X, y datasets\n",
    "    -----------\n",
    "    Agurments :\n",
    "        X_train, X_test (dataframes) : Input dataframes for test and train sets\n",
    "        y_train, y_test (Series)     : Series of labels for test and train sets\n",
    "    \n",
    "    '''\n",
    "    model.fit(X_train, y_train)\n",
    "    predictions = model.predict(X_val)\n",
    "    error = mean_absolute_error(predictions, y_val)\n",
    "    return error\n"
   ]
  },
  {
   "cell_type": "code",
   "execution_count": 5,
   "metadata": {},
   "outputs": [
    {
     "name": "stdout",
     "output_type": "stream",
     "text": [
      "score MAE model_1 24015.492818003917\n",
      "score MAE model_2 23740.979228636657\n",
      "score MAE model_3 23528.78421232877\n",
      "score MAE model_4 23996.676789668687\n",
      "score MAE model_5 23706.672864217904\n"
     ]
    }
   ],
   "source": [
    "for i, model in enumerate(models) :\n",
    "    score = get_mae(X_train=X_train, y_train=y_train,\n",
    "                    X_val=X_val, y_val=y_val, model=model)\n",
    "    print('score MAE model_{}'.format(i+1), score)"
   ]
  },
  {
   "cell_type": "code",
   "execution_count": 7,
   "metadata": {},
   "outputs": [],
   "source": [
    "## Preparing submission\n",
    "\n",
    "# Fit the model to the training data\n",
    "model_3.fit(X, y)\n",
    "\n",
    "# Generate test predictions\n",
    "preds_test = model_3.predict(X_test)\n",
    "\n",
    "# Save predictions in format used for competition scoring\n",
    "output = pd.DataFrame({'Id': X_test.index,\n",
    "                       'SalePrice': preds_test})\n",
    "output.to_csv('submission.csv', index=False)"
   ]
  },
  {
   "cell_type": "code",
   "execution_count": 18,
   "metadata": {},
   "outputs": [],
   "source": [
    "assert len(output) == 1459 \n"
   ]
  },
  {
   "cell_type": "code",
   "execution_count": null,
   "metadata": {},
   "outputs": [],
   "source": []
  }
 ],
 "metadata": {
  "kernelspec": {
   "display_name": "Python 3",
   "language": "python",
   "name": "python3"
  },
  "language_info": {
   "codemirror_mode": {
    "name": "ipython",
    "version": 3
   },
   "file_extension": ".py",
   "mimetype": "text/x-python",
   "name": "python",
   "nbconvert_exporter": "python",
   "pygments_lexer": "ipython3",
   "version": "3.7.6"
  }
 },
 "nbformat": 4,
 "nbformat_minor": 4
}
